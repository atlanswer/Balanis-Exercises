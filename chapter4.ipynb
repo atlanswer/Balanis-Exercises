{
 "cells": [
  {
   "cell_type": "markdown",
   "id": "074fd632",
   "metadata": {},
   "source": [
    "# Chapter 4. Linear Wire Antennas"
   ]
  },
  {
   "cell_type": "markdown",
   "id": "3707d7a0",
   "metadata": {},
   "source": [
    "## Example 4.1, Page 156"
   ]
  },
  {
   "cell_type": "code",
   "execution_count": 1,
   "id": "3dd19a74",
   "metadata": {
    "collapsed": false
   },
   "outputs": [
    {
     "name": "stdout",
     "output_type": "stream",
     "text": [
      "Radiation resisitance: 0.315827340835\n"
     ]
    }
   ],
   "source": [
    "#lambda is very small\n",
    "lamda=0.0001\n",
    "\n",
    "#Length of infinitesimal dipole\n",
    "l=lamda/50\n",
    "\n",
    "#Calculation of radiation resistance\n",
    "R_r=80*(pi**2)*(l/lamda)**2\n",
    "\n",
    "print 'Radiation resisitance:',R_r,'Ohms'"
   ]
  },
  {
   "cell_type": "markdown",
   "id": "fb0b9ce1",
   "metadata": {},
   "source": [
    "## Example 4.3, Page 168"
   ]
  },
  {
   "cell_type": "code",
   "execution_count": 3,
   "id": "aabdc268",
   "metadata": {
    "collapsed": false
   },
   "outputs": [
    {
     "name": "stdout",
     "output_type": "stream",
     "text": [
      "The phase difference is: 0.327107322652 radians.\n",
      "The amplitude difference is: 0.000333044357697\n"
     ]
    }
   ],
   "source": [
    "#Lamda is a variable value in this example and therefore we will write a function to calculate the differences by passing different values of lambda\n",
    "\n",
    "def phase_diff(z,r,lamda):\n",
    "    R1=sqrt(z**2+r**2)\n",
    "    R2=r\n",
    "    phase_diff=(2*pi/lamda)*(R1-R2)\n",
    "    print 'The phase difference is:',phase_diff,'radians.'\n",
    "    \n",
    "    \n",
    "def amp_diff(z,r,lamda):\n",
    "    R1=sqrt(z**2+r**2)\n",
    "    R2=r\n",
    "    amp_diff=(1/R1)-(1/R2)\n",
    "    print 'The amplitude difference is:',amp_diff\n",
    "    \n",
    "#We will assume lamda = 50\n",
    "lamda=50\n",
    "\n",
    "#Given\n",
    "l=5*lamda\n",
    "r=60*lamda\n",
    "\n",
    "#z=2.5lamda at 90 degree\n",
    "z=2.5*lamda\n",
    "\n",
    "phase_diff(z,r,lamda)\n",
    "amp_diff(z,r,lamda)"
   ]
  },
  {
   "cell_type": "markdown",
   "id": "fe0f52e6",
   "metadata": {},
   "source": [
    "## Example 4.4, Page 194"
   ]
  },
  {
   "cell_type": "code",
   "execution_count": 4,
   "id": "4d44689f",
   "metadata": {
    "collapsed": false
   },
   "outputs": [
    {
     "name": "stdout",
     "output_type": "stream",
     "text": [
      "1.32589526731\n"
     ]
    }
   ],
   "source": [
    "#Given is the input resistance of dipole\n",
    "R=50\n",
    "\n",
    "#Calculation of gain G\n",
    "G=pow(float(R)/24.7,1/2.5)\n",
    "\n",
    "print G"
   ]
  }
 ],
 "metadata": {},
 "nbformat": 4,
 "nbformat_minor": 5
}
