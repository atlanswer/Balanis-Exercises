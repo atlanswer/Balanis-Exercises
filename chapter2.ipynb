{
 "cells": [
  {
   "cell_type": "markdown",
   "id": "e625496d",
   "metadata": {},
   "source": [
    "# Chapter 2: Fundamental Parameters of Antennas"
   ]
  },
  {
   "cell_type": "code",
   "execution_count": 1,
   "id": "f7ab8bf9",
   "metadata": {},
   "outputs": [],
   "source": [
    "# spell-checker:words scipy, sympy\n",
    "from IPython.display import display\n",
    "from sympy import sin, cos, pi\n",
    "from sympy import symbols, integrate\n",
    "from sympy import init_printing\n",
    "from sympy.physics.vector import ReferenceFrame\n",
    "init_printing()\n",
    "theta, phi, r = symbols(\"theta, phi, r\")"
   ]
  },
  {
   "cell_type": "markdown",
   "id": "dd9970e8",
   "metadata": {},
   "source": [
    "## Example 2.1, Page 37"
   ]
  },
  {
   "cell_type": "code",
   "execution_count": 2,
   "id": "fea08dc3",
   "metadata": {},
   "outputs": [],
   "source": [
    "# Part a\n",
    "Sigma_A = integrate(sin(theta), (theta, 0, pi / 6), (phi, 0, 2 * pi))\n",
    "# Part b\n",
    "Delta_Theta_1 = Delta_Theta_2 = pi / 3\n",
    "Sigma_A2 = Delta_Theta_1 * Delta_Theta_2"
   ]
  },
  {
   "cell_type": "code",
   "execution_count": 3,
   "id": "d41c5a17",
   "metadata": {},
   "outputs": [
    {
     "data": {
      "text/latex": [
       "$\\displaystyle 2 \\pi \\left(1 - \\frac{\\sqrt{3}}{2}\\right)$"
      ],
      "text/plain": [
       "    ⎛    √3⎞\n",
       "2⋅π⋅⎜1 - ──⎟\n",
       "    ⎝    2 ⎠"
      ]
     },
     "metadata": {},
     "output_type": "display_data"
    }
   ],
   "source": [
    "display(Sigma_A)"
   ]
  },
  {
   "cell_type": "code",
   "execution_count": 4,
   "id": "028a58dd",
   "metadata": {},
   "outputs": [
    {
     "name": "stdout",
     "output_type": "stream",
     "text": [
      "a. exact: 0.84179 steradians.\n",
      "b. approximate: 1.09662 steradians.\n",
      "Relative error: 30.27%\n"
     ]
    }
   ],
   "source": [
    "ans_a = Sigma_A.evalf()\n",
    "ans_b = Sigma_A2.evalf()\n",
    "\n",
    "print(f\"a. exact: {ans_a:.5f} steradians.\")\n",
    "print(f\"b. approximate: {ans_b:.5f} steradians.\")\n",
    "print(f\"Relative error: {abs(ans_b - ans_a) / ans_a:.2%}\")"
   ]
  },
  {
   "cell_type": "markdown",
   "id": "8a046b58",
   "metadata": {},
   "source": [
    "## Example 2.2, Page 40"
   ]
  },
  {
   "cell_type": "code",
   "execution_count": 5,
   "id": "36051a0b",
   "metadata": {},
   "outputs": [],
   "source": [
    "N = ReferenceFrame('N')\n",
    "# Just image this is the radial unit vector\n",
    "a_r = N.x\n",
    "A_0 = symbols(\"A_0\")\n",
    "W_r = A_0 * sin(theta) / (r**2)\n",
    "W_rad = a_r * W_r\n",
    "P_rad = integrate(\n",
    "    W_rad.dot(a_r) * r**2 * sin(theta), (theta, 0, pi), (phi, 0, 2 * pi)\n",
    ")\n"
   ]
  },
  {
   "cell_type": "code",
   "execution_count": 6,
   "id": "cf279347",
   "metadata": {},
   "outputs": [
    {
     "data": {
      "text/latex": [
       "$\\displaystyle \\pi^{2} A_{0}$"
      ],
      "text/plain": [
       " 2   \n",
       "π ⋅A₀"
      ]
     },
     "metadata": {},
     "output_type": "display_data"
    }
   ],
   "source": [
    "display(P_rad)"
   ]
  },
  {
   "cell_type": "markdown",
   "id": "7b9f68b6",
   "metadata": {},
   "source": [
    "## Example 2.3, Page 41"
   ]
  },
  {
   "cell_type": "code",
   "execution_count": 7,
   "id": "ebd46c70",
   "metadata": {},
   "outputs": [],
   "source": [
    "W_rad = A_0 * sin(theta) / (r ** 2)\n",
    "U = r ** 2 * W_rad\n",
    "P_rad = integrate(U * sin(theta), (theta, 0, pi), (phi, 0, 2 * pi))"
   ]
  },
  {
   "cell_type": "code",
   "execution_count": 8,
   "id": "63ca96d5",
   "metadata": {},
   "outputs": [
    {
     "data": {
      "text/latex": [
       "$\\displaystyle \\pi^{2} A_{0}$"
      ],
      "text/plain": [
       " 2   \n",
       "π ⋅A₀"
      ]
     },
     "metadata": {},
     "output_type": "display_data"
    }
   ],
   "source": [
    "display(P_rad)"
   ]
  },
  {
   "cell_type": "markdown",
   "id": "ce85ed8f",
   "metadata": {},
   "source": [
    "## Example 2.4, Page 43"
   ]
  },
  {
   "cell_type": "code",
   "execution_count": 9,
   "id": "21bebef0",
   "metadata": {},
   "outputs": [],
   "source": [
    "U_theta = cos(theta) * sin(3 * theta)\n"
   ]
  },
  {
   "cell_type": "code",
   "execution_count": 14,
   "id": "16d4ccd2",
   "metadata": {},
   "outputs": [
    {
     "data": {
      "text/latex": [
       "$\\displaystyle 1.0471975511966$"
      ],
      "text/plain": [
       "1.04719755119660"
      ]
     },
     "execution_count": 14,
     "metadata": {},
     "output_type": "execute_result"
    }
   ],
   "source": [
    "from sympy import nsolve\n",
    "\n",
    "nsolve(U_theta, 0.707)"
   ]
  },
  {
   "cell_type": "markdown",
   "id": "1951fc08",
   "metadata": {},
   "source": [
    "## Example 2.7, Page 52"
   ]
  },
  {
   "cell_type": "code",
   "execution_count": 9,
   "id": "a64a66c0",
   "metadata": {
    "collapsed": false
   },
   "outputs": [
    {
     "name": "stdout",
     "output_type": "stream",
     "text": [
      "Exact Beam Solid Angle: 3.14159265359 steradians\n",
      "Approximate Beam Solid Angle: 4.38649084493 steradians\n",
      "Exact directivity: 6.02059991328 dB\n",
      "Approx. directivity: 4.57092636745 dB\n"
     ]
    }
   ],
   "source": [
    "#The half power point of the pattern occurs at 60 degrees. Therefore theta_1r=2*pi/3\n",
    "theta_1r=(2*pi)/3\n",
    "theta_2r=(2*pi)/3\n",
    "\n",
    "#Given U=B0*cos(theta)\n",
    "exact_theta_a=dblquad(lambda x,y:cos(x)*sin(x), 0, (2*pi), lambda x:0, lambda x:(pi/2))\n",
    "print 'Exact Beam Solid Angle:',exact_theta_a[0],'steradians'\n",
    "\n",
    "#Formula for approx theta = theta_1r*theta_2r\n",
    "approx_theta_a=theta_1r*theta_2r\n",
    "print 'Approximate Beam Solid Angle:',approx_theta_a,'steradians'\n",
    "\n",
    "#formula for exact directivity=4*pi/exact_beam_angle\n",
    "exact_direct=((4*pi)/(exact_theta_a[0]))\n",
    "\n",
    "#formula for approx directivity=4*pi/approx_beam_angle\n",
    "approx_direct=((4*pi)/(approx_theta_a))\n",
    "\n",
    "#exact directivity in dB\n",
    "exact_direct_db=10*log10(exact_direct)\n",
    "\n",
    "#approx directivity in dB\n",
    "approx_direct_db=10*log10(approx_direct)\n",
    "\n",
    "print 'Exact directivity:',exact_direct_db,'dB'\n",
    "print 'Approx. directivity:',approx_direct_db,'dB'"
   ]
  },
  {
   "cell_type": "markdown",
   "id": "c0a2e622",
   "metadata": {},
   "source": [
    "## Example 2.8, Page 58"
   ]
  },
  {
   "cell_type": "code",
   "execution_count": 34,
   "id": "62ed732f",
   "metadata": {
    "collapsed": false
   },
   "outputs": [
    {
     "name": "stdout",
     "output_type": "stream",
     "text": [
      "Radiated Power: 8.37758040957 W\n",
      "Directivity: 1.76091259056 dB\n",
      "Directivity: 1.70982984843 dB\n",
      "Directivity: 0.346803154212 dB\n"
     ]
    }
   ],
   "source": [
    "import scipy\n",
    "\n",
    "#Maximum intensity\n",
    "u_max=1\n",
    "\n",
    "#Calculation of radiated power\n",
    "p_rad=dblquad(lambda x,y:(sin(x)**2)*sin(x),0,2*pi,lambda x:0,lambda x:pi)\n",
    "print 'Radiated Power:',p_rad[0],'W'\n",
    "\n",
    "#Calulation of maximum directivity\n",
    "D0=(4*pi)/(p_rad[0])\n",
    "\n",
    "#Directivity in dB\n",
    "D0_db=10*log10(D0)\n",
    "print 'Directivity:',D0_db,'dB'\n",
    "\n",
    "deg=90\n",
    "\n",
    "#Calculation od directivity\n",
    "D0_1=101/(deg-0.0027*deg**2)\n",
    "D0_1_db=10*log10(D0_1)\n",
    "print 'Directivity:',D0_1_db,'dB'\n",
    "\n",
    "#Calculation of directivity\n",
    "D0_2=(-172.4)+(191*sqrt((0.818+(1/deg))))\n",
    "D0_2_db=10*log10(D0_2)\n",
    "print 'Directivity:',D0_2,'dB'"
   ]
  },
  {
   "cell_type": "markdown",
   "id": "03963f5c",
   "metadata": {},
   "source": [
    "## Example 2.9(a), Page 61"
   ]
  },
  {
   "cell_type": "code",
   "execution_count": 33,
   "id": "4e362c17",
   "metadata": {
    "collapsed": false
   },
   "outputs": [
    {
     "name": "stdout",
     "output_type": "stream",
     "text": [
      "Power Radiated: 2.46740110027 W\n",
      "Directivity using numerical techniques: 5.09295817894\n",
      "Directivity: 5.09295817894\n"
     ]
    }
   ],
   "source": [
    "import scipy\n",
    "\n",
    "B0=1\n",
    "#Maximum intensity\n",
    "u_max=1\n",
    "\n",
    "#Array containing angles in radians\n",
    "a=sin(array([10,20,30,40,50,60,70,80,90,100,110,120,130,140,150,160,170,180])*pi/180)**2\n",
    "\n",
    "#Calculation of radiated power\n",
    "p_rad1=B0*((pi/18)**2)*sum(a)*sum(a)\n",
    "print 'Power Radiated:',p_rad1,'W'\n",
    "\n",
    "#Calculation of directivity\n",
    "D0=(4*pi)/(p_rad1)\n",
    "\n",
    "print 'Directivity using numerical techniques:',D0\n",
    "\n",
    "#Calu=culation of radiated power\n",
    "a=quad(lambda x:sin(x)**2,0,pi)\n",
    "b=quad(lambda x:sin(x)**2,0,pi)\n",
    "p_rad2=a[0]*b[0]\n",
    "\n",
    "#Directivity\n",
    "D01=(4*pi)/(p_rad2)\n",
    "\n",
    "print 'Directivity:',D01"
   ]
  },
  {
   "cell_type": "markdown",
   "id": "b85eac9a",
   "metadata": {},
   "source": [
    "## Example 2.9(b), Page 63"
   ]
  },
  {
   "cell_type": "code",
   "execution_count": 16,
   "id": "9e408dd2",
   "metadata": {
    "collapsed": false
   },
   "outputs": [
    {
     "name": "stdout",
     "output_type": "stream",
     "text": [
      "Directivity using 18 divisions: 5.09295817894\n"
     ]
    }
   ],
   "source": [
    "import scipy\n",
    "\n",
    "\n",
    "B0=1\n",
    "\n",
    "#Maximum intensity\n",
    "u_max=1\n",
    "\n",
    "#Arrays containing angles in radians\n",
    "a=sin(array([5,15,25,35,45,55,65,75,85])*pi/180)**2\n",
    "b=sin(array([5,15,25,35,45,55,65,75,85])*pi/180)**2\n",
    "\n",
    "#Calculation of radiated power\n",
    "p_rad=B0*((pi/18)**2)*(2*sum(a))*(2*sum(b))\n",
    "\n",
    "#Calculation of directivity\n",
    "D0=(4*pi*u_max)/(p_rad)\n",
    "\n",
    "print 'Directivity using 18 divisions:',D0"
   ]
  },
  {
   "cell_type": "markdown",
   "id": "64aa3e07",
   "metadata": {},
   "source": [
    "## Example 2.10, Page 68"
   ]
  },
  {
   "cell_type": "code",
   "execution_count": 17,
   "id": "d5c30e2e",
   "metadata": {
    "collapsed": false
   },
   "outputs": [
    {
     "name": "stdout",
     "output_type": "stream",
     "text": [
      "Maximum Gain: 2.29848855242\n",
      "Reflection efficiency: -0.154573670944\n",
      "Total efficiency: -0.154573670944\n",
      "Absolute Gain: 2.14391488148\n"
     ]
    }
   ],
   "source": [
    "import scipy\n",
    "\n",
    "#maximum intensuty\n",
    "u_max=1\n",
    "B0=1\n",
    "\n",
    "#Input impedance in Ohms\n",
    "inp_imp=73\n",
    "#Characteristic impedance in Ohms\n",
    "char_imp=50\n",
    "\n",
    "#Calculation of radiated power\n",
    "p_rad=B0*quad(lambda x:1,0,2*pi)[0]*quad(lambda x:sin(x)**4,0,pi)[0]\n",
    "\n",
    "#Calulation of directivity\n",
    "D0=(4*pi*u_max)/(p_rad)\n",
    "\n",
    "#conduction & dielectric efficiency ecd=1 since antenna is loseless\n",
    "ecd=1\n",
    "\n",
    "#Maximum Gain\n",
    "G0=ecd*D0\n",
    "G0_db=10*log10(G0)\n",
    "\n",
    "#Reflection Coefficient Tau\n",
    "tau=float(inp_imp-char_imp)/float(inp_imp+char_imp)\n",
    "\n",
    "#Reflection efficiency=1-tau**2\n",
    "er=1-tau**2\n",
    "er_db=10*log10(er)\n",
    "\n",
    "#Total efficiency\n",
    "e0=er*ecd\n",
    "e0_db=10*log10(e0)\n",
    "\n",
    "#Absolute Gain\n",
    "G0_abs=e0*D0\n",
    "G0abs_db=10*log10(G0_abs)\n",
    "\n",
    "print 'Maximum Gain:',G0_db\n",
    "\n",
    "print 'Reflection efficiency:',er_db\n",
    "\n",
    "print 'Total efficiency:',e0_db\n",
    "\n",
    "print 'Absolute Gain:',G0abs_db"
   ]
  },
  {
   "cell_type": "markdown",
   "id": "8ae41b72",
   "metadata": {},
   "source": [
    "## Example 2.11, Page 77"
   ]
  },
  {
   "cell_type": "code",
   "execution_count": 56,
   "id": "78751b56",
   "metadata": {
    "collapsed": false
   },
   "outputs": [
    {
     "name": "stdout",
     "output_type": "stream",
     "text": [
      "0.5\n"
     ]
    }
   ],
   "source": [
    "import scipy\n",
    "\n",
    "#unit vector of the wave\n",
    "rho_w=array([1,0])\n",
    "\n",
    "#unit vector of the electric field\n",
    "rho_a=array([1/sqrt(2),1/sqrt(2)])\n",
    "\n",
    "#Polarization factor\n",
    "PLF=abs(dot(rho_w,rho_a))**2\n",
    "print 'Polarization Factor:',PLF"
   ]
  },
  {
   "cell_type": "markdown",
   "id": "5dfc9a19",
   "metadata": {},
   "source": [
    "## Example 2.12, Page 78"
   ]
  },
  {
   "cell_type": "code",
   "execution_count": 57,
   "id": "9e8bd9c8",
   "metadata": {
    "collapsed": false
   },
   "outputs": [
    {
     "name": "stdout",
     "output_type": "stream",
     "text": [
      "0.0\n"
     ]
    }
   ],
   "source": [
    "import scipy\n",
    "\n",
    "#unit vector of the wave\n",
    "rho_w=array([1/sqrt(2),1/sqrt(2)])\n",
    "\n",
    "#unit vector of the electric field\n",
    "rho_a=array([1/sqrt(2),-1/sqrt(2)])\n",
    "\n",
    "#Polarization Factor\n",
    "PLF=abs(dot(rho_w,rho_a))**2\n",
    "\n",
    "print 'Polarization Factor:',PLF"
   ]
  },
  {
   "cell_type": "markdown",
   "id": "8665289c",
   "metadata": {},
   "source": [
    "## Example 2.13, Page 86"
   ]
  },
  {
   "cell_type": "code",
   "execution_count": 18,
   "id": "60850cda",
   "metadata": {
    "collapsed": false
   },
   "outputs": [
    {
     "name": "stdout",
     "output_type": "stream",
     "text": [
      "Conduction-dielectric efficiency: -0.0138216614754\n"
     ]
    }
   ],
   "source": [
    "import scipy\n",
    "\n",
    "#Radiation Resistance\n",
    "rad_res=73\n",
    "\n",
    "#Frequency of antenna\n",
    "f=10**8\n",
    "\n",
    "#Velocity\n",
    "v=3*10**8\n",
    "\n",
    "#Wavelength\n",
    "lamda=v/f\n",
    "\n",
    "#Length of antenna\n",
    "l=lamda/2\n",
    "\n",
    "#Perimeter of the antenna\n",
    "b=(3*10**-4)*lamda\n",
    "C=2*pi*b\n",
    "\n",
    "#value of omega\n",
    "w=2*pi*f\n",
    "\n",
    "#Constant\n",
    "mu0=4*pi*10**-7\n",
    "\n",
    "#Conductivity\n",
    "sigma=5.7*10**7\n",
    "\n",
    "#High frequency resistance\n",
    "Rhf=(l/C)*(sqrt((w*mu0)/(2*sigma)))\n",
    "\n",
    "#Load resistance\n",
    "Rl=Rhf/2\n",
    "\n",
    "#calculation of conduction & dielectric efficiency\n",
    "ecd=(rad_res)/(rad_res+Rl)\n",
    "ecd_db=10*log10(ecd)\n",
    "\n",
    "print 'Conduction-dielectric efficiency:',ecd_db"
   ]
  },
  {
   "cell_type": "markdown",
   "id": "668d47e6",
   "metadata": {},
   "source": [
    "## Example 2.16, Page 98 "
   ]
  },
  {
   "cell_type": "code",
   "execution_count": 30,
   "id": "c63d230d",
   "metadata": {
    "collapsed": false
   },
   "outputs": [
    {
     "name": "stdout",
     "output_type": "stream",
     "text": [
      "Power delivered to the load of receiver: 0.00479199874075 W\n"
     ]
    }
   ],
   "source": [
    "import scipy\n",
    "\n",
    "lamda=1\n",
    "\n",
    "#Maximum directivity of transmitter\n",
    "D0_t_db=16\n",
    "D0_t=10**(float(D0_t_db)/10)\n",
    "\n",
    "#Maximum directivity of receiver\n",
    "D0_r_db=20\n",
    "D0_r=10**(D0_r_db/10)\n",
    "\n",
    "#Reflection coeficients of transmitter and receiver\n",
    "tau_r=0.1\n",
    "tau_t=0.2\n",
    "\n",
    "#Power at transmitter\n",
    "P_t=2\n",
    "\n",
    "#Calculation of Power to the receiver\n",
    "P_r=(1-tau_r**2)*(1-tau_t**2)*((lamda/(4*pi*100*lamda))**2)*D0_t*D0_r*P_t\n",
    "print 'Power delivered to the load of receiver:',P_r,'W'"
   ]
  },
  {
   "cell_type": "markdown",
   "id": "bccabd4e",
   "metadata": {},
   "source": [
    "## Example 2.18, Page 108"
   ]
  },
  {
   "cell_type": "code",
   "execution_count": 23,
   "id": "64f66a8f",
   "metadata": {
    "collapsed": false
   },
   "outputs": [
    {
     "name": "stdout",
     "output_type": "stream",
     "text": [
      "Effective temperature: 191.071984919 K\n"
     ]
    }
   ],
   "source": [
    "import scipy\n",
    "\n",
    "#antenna temp at receiver terminals\n",
    "Ta=150\n",
    "\n",
    "#physical temp of transmission line\n",
    "T0=300\n",
    "\n",
    "#thermal efficiency of the antennna\n",
    "eA=0.99\n",
    "\n",
    "#antenna physical temperature\n",
    "Tp=300\n",
    "l=1\n",
    "\n",
    "#antenna temp at antenna terminals due to physical temperature\n",
    "T_ap=Tp*(1/eA-1)\n",
    "\n",
    "#Loss of waveguide in dB/m\n",
    "alpha_db=0.13\n",
    "\n",
    "#Loss of waveguide in Np/m\n",
    "alpha_np=alpha_db/0.868\n",
    "\n",
    "#Calulation of effective temperature\n",
    "T_A=Ta*exp(-l*alpha_np*2)+T_ap*exp(-l*alpha_np*2)+T0*(1-exp(-l*alpha_np*2))\n",
    "print 'Effective temperature:',T_A,'K'"
   ]
  },
  {
   "cell_type": "code",
   "execution_count": null,
   "id": "b1fc867f",
   "metadata": {
    "collapsed": false
   },
   "outputs": [],
   "source": []
  }
 ],
 "metadata": {
  "kernelspec": {
   "display_name": "Python 3",
   "language": "python",
   "name": "python3"
  },
  "language_info": {
   "codemirror_mode": {
    "name": "ipython",
    "version": 3
   },
   "file_extension": ".py",
   "mimetype": "text/x-python",
   "name": "python",
   "nbconvert_exporter": "python",
   "pygments_lexer": "ipython3",
   "version": "3.11.4"
  }
 },
 "nbformat": 4,
 "nbformat_minor": 5
}
