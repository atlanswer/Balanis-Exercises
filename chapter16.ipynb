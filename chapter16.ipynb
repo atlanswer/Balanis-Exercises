{
 "cells": [
  {
   "cell_type": "markdown",
   "id": "e860864b",
   "metadata": {},
   "source": [
    "# Chapter 16: Smart Antennas"
   ]
  },
  {
   "cell_type": "markdown",
   "id": "144cffd3",
   "metadata": {},
   "source": [
    "## Example 16.1, Page no. 966"
   ]
  },
  {
   "cell_type": "code",
   "execution_count": 17,
   "id": "c033e355",
   "metadata": {
    "collapsed": false
   },
   "outputs": [
    {
     "name": "stdout",
     "output_type": "stream",
     "text": [
      "The optimum values of w1 and w2 which guarantee maximum signal-to-interference ratio at theta=0: [ 0.5-0.5j  0.5+0.5j]\n"
     ]
    }
   ],
   "source": [
    "#in this example we have to solve a system of linear equations\n",
    "\n",
    "w=np.mat('1 1;0.7071-0.7071j 0.7071+0.7071j')\n",
    "a=np.array([1,0])\n",
    "\n",
    "x=np.linalg.solve(w,a)\n",
    "print \"The optimum values of w1 and w2 which guarantee maximum signal-to-interference ratio at theta=0:\",x"
   ]
  },
  {
   "cell_type": "code",
   "execution_count": null,
   "id": "39e5e7ac",
   "metadata": {
    "collapsed": false
   },
   "outputs": [],
   "source": []
  }
 ],
 "metadata": {},
 "nbformat": 4,
 "nbformat_minor": 5
}
