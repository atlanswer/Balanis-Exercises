{
 "cells": [
  {
   "cell_type": "markdown",
   "id": "c9b2ece8",
   "metadata": {},
   "source": [
    "# Chapter 5. Loop Antennas"
   ]
  },
  {
   "cell_type": "markdown",
   "id": "301586da",
   "metadata": {},
   "source": [
    "## Example 5.1, Page 239"
   ]
  },
  {
   "cell_type": "code",
   "execution_count": 2,
   "id": "44c210fc",
   "metadata": {
    "collapsed": false
   },
   "outputs": [
    {
     "name": "stdout",
     "output_type": "stream",
     "text": [
      "Radiation resistance for 1 turns is: 0.787572 Ohms\n",
      "Radiation resistance for 8 turns is: 50.404629 Ohms\n"
     ]
    }
   ],
   "source": [
    "#Assuming lamda = 50\n",
    "lamda=50\n",
    "\n",
    "#Given radius = lamda/25\n",
    "radius=lamda/25\n",
    "\n",
    "def rad_res(radius,turns,lamda):\n",
    "    S=pi*radius**2\n",
    "    res=31171*turns**2*S**2/lamda**4\n",
    "    print 'Radiation resistance for %d turns is: %f Ohms'%(turns,res)\n",
    "    \n",
    "rad_res(radius,1,lamda)\n",
    "rad_res(radius,8,lamda)"
   ]
  },
  {
   "cell_type": "code",
   "execution_count": 5,
   "id": "25f38757",
   "metadata": {
    "collapsed": false
   },
   "outputs": [
    {
     "name": "stdout",
     "output_type": "stream",
     "text": [
      "Radiation efficiency of a single turn loop antenna is : 42.809924\n",
      "Radiation efficiency of an 8 turn loop antenna is : 81.270876\n"
     ]
    }
   ],
   "source": [
    "#Given data is radius of loop and wire, frequency, conductivity\n",
    "\n",
    "lamda=50.0\n",
    "\n",
    "a=lamda/25\n",
    "b=lamda*10**-4\n",
    "f=100*10**6\n",
    "space=4*10**-4*lamda\n",
    "cond=5.7*10**7\n",
    "omega=2*pi*f\n",
    "mu_0=4*pi*10**-7\n",
    "rad_res1=0.788\n",
    "rad_res50=50.43\n",
    "\n",
    "Rl=(a/b)*sqrt(omega*mu_0/(2*cond))\n",
    "ecd1=rad_res1/(rad_res1+Rl)\n",
    "print \"Radiation efficiency of a single turn loop antenna is : %f\"%(ecd1*100)\n",
    "\n",
    "N=8\n",
    "Rp_R0=0.38\n",
    "R_ohmic=(N*a/b)*sqrt(omega*mu_0/(2*cond))*(1+Rp_R0)\n",
    "ecd2=rad_res50/(rad_res50+R_ohmic)\n",
    "print \"Radiation efficiency of an 8 turn loop antenna is : %f\"%(ecd2*100)"
   ]
  },
  {
   "cell_type": "markdown",
   "id": "936cf2a3",
   "metadata": {},
   "source": [
    "## Example 5.3, Page 243"
   ]
  },
  {
   "cell_type": "code",
   "execution_count": 4,
   "id": "d8369deb",
   "metadata": {
    "collapsed": false
   },
   "outputs": [
    {
     "name": "stdout",
     "output_type": "stream",
     "text": [
      "Physical area of loop: 12.5663706144\n",
      "Electrically the loop is 23.7471524162 times bigger than physical area,\n"
     ]
    }
   ],
   "source": [
    "lamda=50\n",
    "\n",
    "#Radius\n",
    "a=lamda/25\n",
    "\n",
    "S=pi*a**2\n",
    "\n",
    "print 'Physical area of loop:',S\n",
    "\n",
    "#Effective aperture\n",
    "Aem=(3*lamda**2)/(8*pi)\n",
    "\n",
    "comp=Aem/S\n",
    "\n",
    "print 'Electrically the loop is',comp,'times bigger than physical area,'"
   ]
  },
  {
   "cell_type": "markdown",
   "id": "5495c093",
   "metadata": {},
   "source": [
    "## Example 5.4, Page no. 260"
   ]
  },
  {
   "cell_type": "code",
   "execution_count": 7,
   "id": "2d17356a",
   "metadata": {
    "collapsed": false
   },
   "outputs": [
    {
     "name": "stdout",
     "output_type": "stream",
     "text": [
      "The radius of the loop is: 0.537148 m\n",
      "The radius of the wire is : 0.008366 m\n",
      "The axial directivity is calculated as 3.6 dB.\n",
      "There is no need of a lumped element to resonate the radiator, since the antenna is self-resonant.\n"
     ]
    }
   ],
   "source": [
    "#To design a resonant loop antenna omega=12 & circumference=1.125*lamda\n",
    "omega=12\n",
    "f=100*10**6\n",
    "v=3*10**8\n",
    "lamda=v/f\n",
    "circum=1.125*lamda\n",
    "a=circum/(2*pi)\n",
    "print \"The radius of the loop is: %f m\"%(a)\n",
    "\n",
    "b=(2*pi*a)/(exp(omega/2.0))\n",
    "print \"The radius of the wire is : %f m\"%b\n",
    "\n",
    "print \"The axial directivity is calculated as 3.6 dB.\"\n",
    "print \"There is no need of a lumped element to resonate the radiator, since the antenna is self-resonant.\""
   ]
  }
 ],
 "metadata": {},
 "nbformat": 4,
 "nbformat_minor": 5
}
