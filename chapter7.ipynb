{
 "cells": [
  {
   "cell_type": "markdown",
   "id": "488eee4a",
   "metadata": {},
   "source": [
    "# Chapter 7: Antenna Synthesis and Continuous Sources"
   ]
  },
  {
   "cell_type": "markdown",
   "id": "aa7fb5f7",
   "metadata": {},
   "source": [
    "## Example 7.1, Page no. 392"
   ]
  },
  {
   "cell_type": "code",
   "execution_count": 1,
   "id": "928bec03",
   "metadata": {
    "collapsed": false
   },
   "outputs": [
    {
     "name": "stdout",
     "output_type": "stream",
     "text": [
      "The values of a1, a2, a3 and a4 are -1, 1, -1 and 1 respectively\n"
     ]
    }
   ],
   "source": [
    "#In this example the values of a1,a2,a3,a4 are found\n",
    "#the values of z1 z2 z3 are substituted in the equation AF=(z-z1)(z-z2)(z-z3)\n",
    "a1=-1\n",
    "a2=1\n",
    "a3=-1\n",
    "a4=1\n",
    "print \"The values of a1, a2, a3 and a4 are %d, %d, %d and %d respectively\"%(a1,a2,a3,a4)"
   ]
  },
  {
   "cell_type": "markdown",
   "id": "28b972f8",
   "metadata": {},
   "source": [
    "## Example 7.3, Page no. 398"
   ]
  },
  {
   "cell_type": "code",
   "execution_count": 26,
   "id": "d4934140",
   "metadata": {
    "collapsed": false
   },
   "outputs": [
    {
     "name": "stdout",
     "output_type": "stream",
     "text": [
      "Normalized Co-efficients:\n",
      "a 0 : 1.0\n",
      "a 1 : 0.358187786013\n",
      "a 2 : -0.216954294377\n",
      "a 3 : 0.0558163210177\n",
      "a 4 : 0.0577652398568\n",
      "a 5 : -0.0894712295755\n",
      "a 6 : 0.0518110265309\n",
      "a 7 : 0.0101104236117\n",
      "a 8 : -0.0495750638142\n",
      "a 9 : 0.0455187541912\n",
      "a 10 : -0.00996721500244\n"
     ]
    }
   ],
   "source": [
    "import numpy as np\n",
    "import scipy.integrate as integrate\n",
    "a=np.zeros(11)\n",
    "for m in range(0,11):\n",
    "    a[m]=integrate.quad(lambda x: exp(-1j*m*x) , (-pi/sqrt(2)) , (pi/sqrt(2)))[0]\n",
    "maxval = a[0]\n",
    "for i in range(0,11):\n",
    "    if maxval<a[i]:\n",
    "        maxval = a[i]\n",
    "\n",
    "print 'Normalized Co-efficients:';\n",
    "for i in range(0,11):\n",
    "    a[i]=a[i]/maxval\n",
    "    print 'a',i,':',a[i]"
   ]
  },
  {
   "cell_type": "code",
   "execution_count": null,
   "id": "c46f8133",
   "metadata": {
    "collapsed": false
   },
   "outputs": [],
   "source": []
  }
 ],
 "metadata": {},
 "nbformat": 4,
 "nbformat_minor": 5
}
